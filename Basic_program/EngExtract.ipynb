{
 "cells": [
  {
   "cell_type": "code",
   "execution_count": 1,
   "metadata": {},
   "outputs": [
    {
     "name": "stdout",
     "output_type": "stream",
     "text": [
      "Defaulting to user installation because normal site-packages is not writeable\n",
      "Collecting easyocr\n",
      "  Downloading easyocr-1.6.2-py3-none-any.whl (2.9 MB)\n",
      "     ---------------------------------------- 2.9/2.9 MB 552.7 kB/s eta 0:00:00\n",
      "Collecting python-bidi\n",
      "  Downloading python_bidi-0.4.2-py2.py3-none-any.whl (30 kB)\n",
      "Collecting pyclipper\n",
      "  Downloading pyclipper-1.3.0.post3-cp310-cp310-win_amd64.whl (94 kB)\n",
      "     -------------------------------------- 94.6/94.6 kB 448.5 kB/s eta 0:00:00\n",
      "Requirement already satisfied: Pillow in c:\\users\\showm\\appdata\\roaming\\python\\python310\\site-packages (from easyocr) (9.1.1)\n",
      "Requirement already satisfied: scipy in c:\\users\\showm\\appdata\\roaming\\python\\python310\\site-packages (from easyocr) (1.8.1)\n",
      "Collecting PyYAML\n",
      "  Downloading PyYAML-6.0-cp310-cp310-win_amd64.whl (151 kB)\n",
      "     ------------------------------------ 151.7/151.7 kB 106.4 kB/s eta 0:00:00\n",
      "Collecting torch\n",
      "  Downloading torch-1.12.1-cp310-cp310-win_amd64.whl (162.2 MB)\n",
      "     ------------------------------------- 162.2/162.2 MB 62.8 kB/s eta 0:00:00\n",
      "Collecting ninja\n",
      "  Downloading ninja-1.10.2.3-py2.py3-none-win_amd64.whl (292 kB)\n",
      "     ------------------------------------- 292.6/292.6 kB 70.0 kB/s eta 0:00:00\n",
      "Collecting scikit-image\n",
      "  Downloading scikit_image-0.19.3-cp310-cp310-win_amd64.whl (12.0 MB)\n",
      "     -------------------------------------- 12.0/12.0 MB 147.2 kB/s eta 0:00:00\n",
      "Requirement already satisfied: numpy in c:\\users\\showm\\appdata\\roaming\\python\\python310\\site-packages (from easyocr) (1.23.0)\n",
      "Collecting opencv-python-headless<=4.5.4.60\n",
      "  Downloading opencv_python_headless-4.5.4.60-cp310-cp310-win_amd64.whl (35.0 MB)\n",
      "     -------------------------------------- 35.0/35.0 MB 209.7 kB/s eta 0:00:00\n",
      "Collecting Shapely\n",
      "  Downloading Shapely-1.8.4-cp310-cp310-win_amd64.whl (1.3 MB)\n",
      "     ---------------------------------------- 1.3/1.3 MB 211.8 kB/s eta 0:00:00\n",
      "Collecting torchvision>=0.5\n",
      "  Downloading torchvision-0.13.1-cp310-cp310-win_amd64.whl (1.1 MB)\n",
      "     ---------------------------------------- 1.1/1.1 MB 175.5 kB/s eta 0:00:00\n",
      "Requirement already satisfied: typing-extensions in c:\\users\\showm\\appdata\\roaming\\python\\python310\\site-packages (from torchvision>=0.5->easyocr) (4.2.0)\n",
      "Requirement already satisfied: requests in c:\\users\\showm\\appdata\\roaming\\python\\python310\\site-packages (from torchvision>=0.5->easyocr) (2.28.0)\n",
      "Requirement already satisfied: six in c:\\users\\showm\\appdata\\roaming\\python\\python310\\site-packages (from python-bidi->easyocr) (1.16.0)\n",
      "Collecting imageio>=2.4.1\n",
      "  Downloading imageio-2.21.3-py3-none-any.whl (3.4 MB)\n",
      "     ---------------------------------------- 3.4/3.4 MB 209.3 kB/s eta 0:00:00\n",
      "Collecting tifffile>=2019.7.26\n",
      "  Downloading tifffile-2022.8.12-py3-none-any.whl (208 kB)\n",
      "     ------------------------------------ 208.5/208.5 kB 118.6 kB/s eta 0:00:00\n",
      "Collecting networkx>=2.2\n",
      "  Downloading networkx-2.8.6-py3-none-any.whl (2.0 MB)\n",
      "     ---------------------------------------- 2.0/2.0 MB 195.1 kB/s eta 0:00:00\n",
      "Requirement already satisfied: packaging>=20.0 in c:\\users\\showm\\appdata\\roaming\\python\\python310\\site-packages (from scikit-image->easyocr) (21.3)\n",
      "Collecting PyWavelets>=1.1.1\n",
      "  Downloading PyWavelets-1.4.1-cp310-cp310-win_amd64.whl (4.2 MB)\n",
      "     ---------------------------------------- 4.2/4.2 MB 201.5 kB/s eta 0:00:00\n",
      "Requirement already satisfied: pyparsing!=3.0.5,>=2.0.2 in c:\\users\\showm\\appdata\\roaming\\python\\python310\\site-packages (from packaging>=20.0->scikit-image->easyocr) (3.0.9)\n",
      "Requirement already satisfied: urllib3<1.27,>=1.21.1 in c:\\users\\showm\\appdata\\roaming\\python\\python310\\site-packages (from requests->torchvision>=0.5->easyocr) (1.26.9)\n",
      "Requirement already satisfied: charset-normalizer~=2.0.0 in c:\\users\\showm\\appdata\\roaming\\python\\python310\\site-packages (from requests->torchvision>=0.5->easyocr) (2.0.12)\n",
      "Requirement already satisfied: idna<4,>=2.5 in c:\\users\\showm\\appdata\\roaming\\python\\python310\\site-packages (from requests->torchvision>=0.5->easyocr) (3.3)\n",
      "Requirement already satisfied: certifi>=2017.4.17 in c:\\users\\showm\\appdata\\roaming\\python\\python310\\site-packages (from requests->torchvision>=0.5->easyocr) (2022.6.15)\n",
      "Installing collected packages: pyclipper, ninja, torch, tifffile, Shapely, PyYAML, PyWavelets, python-bidi, opencv-python-headless, networkx, imageio, torchvision, scikit-image, easyocr\n",
      "Successfully installed PyWavelets-1.4.1 PyYAML-6.0 Shapely-1.8.4 easyocr-1.6.2 imageio-2.21.3 networkx-2.8.6 ninja-1.10.2.3 opencv-python-headless-4.5.4.60 pyclipper-1.3.0.post3 python-bidi-0.4.2 scikit-image-0.19.3 tifffile-2022.8.12 torch-1.12.1 torchvision-0.13.1\n"
     ]
    },
    {
     "name": "stderr",
     "output_type": "stream",
     "text": [
      "  WARNING: The script ninja.exe is installed in 'C:\\Users\\showm\\AppData\\Roaming\\Python\\Python310\\Scripts' which is not on PATH.\n",
      "  Consider adding this directory to PATH or, if you prefer to suppress this warning, use --no-warn-script-location.\n",
      "  WARNING: The scripts convert-caffe2-to-onnx.exe, convert-onnx-to-caffe2.exe and torchrun.exe are installed in 'C:\\Users\\showm\\AppData\\Roaming\\Python\\Python310\\Scripts' which is not on PATH.\n",
      "  Consider adding this directory to PATH or, if you prefer to suppress this warning, use --no-warn-script-location.\n",
      "  WARNING: The scripts lsm2bin.exe, tiff2fsspec.exe, tiffcomment.exe and tifffile.exe are installed in 'C:\\Users\\showm\\AppData\\Roaming\\Python\\Python310\\Scripts' which is not on PATH.\n",
      "  Consider adding this directory to PATH or, if you prefer to suppress this warning, use --no-warn-script-location.\n",
      "  WARNING: The script pybidi.exe is installed in 'C:\\Users\\showm\\AppData\\Roaming\\Python\\Python310\\Scripts' which is not on PATH.\n",
      "  Consider adding this directory to PATH or, if you prefer to suppress this warning, use --no-warn-script-location.\n",
      "  WARNING: The scripts imageio_download_bin.exe and imageio_remove_bin.exe are installed in 'C:\\Users\\showm\\AppData\\Roaming\\Python\\Python310\\Scripts' which is not on PATH.\n",
      "  Consider adding this directory to PATH or, if you prefer to suppress this warning, use --no-warn-script-location.\n",
      "  WARNING: The script skivi.exe is installed in 'C:\\Users\\showm\\AppData\\Roaming\\Python\\Python310\\Scripts' which is not on PATH.\n",
      "  Consider adding this directory to PATH or, if you prefer to suppress this warning, use --no-warn-script-location.\n",
      "  WARNING: The script easyocr.exe is installed in 'C:\\Users\\showm\\AppData\\Roaming\\Python\\Python310\\Scripts' which is not on PATH.\n",
      "  Consider adding this directory to PATH or, if you prefer to suppress this warning, use --no-warn-script-location.\n",
      "\n",
      "[notice] A new release of pip available: 22.2.1 -> 22.2.2\n",
      "[notice] To update, run: python.exe -m pip install --upgrade pip\n"
     ]
    }
   ],
   "source": [
    "! pip install easyocr"
   ]
  },
  {
   "cell_type": "code",
   "execution_count": null,
   "metadata": {},
   "outputs": [],
   "source": []
  }
 ],
 "metadata": {
  "kernelspec": {
   "display_name": "Python 3.10.5 64-bit",
   "language": "python",
   "name": "python3"
  },
  "language_info": {
   "codemirror_mode": {
    "name": "ipython",
    "version": 3
   },
   "file_extension": ".py",
   "mimetype": "text/x-python",
   "name": "python",
   "nbconvert_exporter": "python",
   "pygments_lexer": "ipython3",
   "version": "3.10.5"
  },
  "orig_nbformat": 4,
  "vscode": {
   "interpreter": {
    "hash": "26de051ba29f2982a8de78e945f0abaf191376122a1563185a90213a26c5da77"
   }
  }
 },
 "nbformat": 4,
 "nbformat_minor": 2
}
